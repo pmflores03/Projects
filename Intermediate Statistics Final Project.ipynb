{
 "cells": [
  {
   "cell_type": "code",
   "execution_count": 1,
   "id": "2e7f6b0e-49c6-4b2e-92d7-95742257700b",
   "metadata": {},
   "outputs": [],
   "source": [
    "import numpy as np\n",
    "import pandas as pd\n",
    "from statsmodels.stats.proportion import proportions_ztest\n",
    "import seaborn as sns\n",
    "from scipy import stats\n",
    "from statsmodels.stats.multicomp import pairwise_tukeyhsd\n",
    "from statsmodels.stats.multicomp import MultiComparison"
   ]
  },
  {
   "cell_type": "markdown",
   "id": "9d31ea64-d9ef-4c52-b501-7f41d8418933",
   "metadata": {},
   "source": [
    "## Scenario 1"
   ]
  },
  {
   "cell_type": "markdown",
   "id": "63118c29-268a-43bd-a8c9-a806f5f0f160",
   "metadata": {},
   "source": [
    "#### Fawn is a private investigator. She has taken a job for an insurance company. The insurance company has been paying out large amounts of money for workman’s comp claims, and they believe some of those claims are fraudulent. The insurance company wants Fawn and her associates to run surveillance to determine if the rate of fraud is higher than what the industry normally reports. Specifically, they want to know if the incidence of fraud among claimants is more than 16%.\n",
    "\n",
    "They provide Fawn with a random sample of 94 claimants who have been diagnosed as unable to perform any physical labor beyond light housekeeping activities. They have asked Fawn to observe the sample, and report back to them how many of the claimants are obviously doing things that are much more strenuous than light housekeeping, such as strenuous yard work, weightlifting at the gym or other strenuous sporting activities, etc.\n",
    "\n",
    "Fawn and her team spend about 8 weeks completing their observations, and report back to the insurance company that 28 of the 94 claimants are not nearly as “disabled” as their diagnosis suggests. The insurance company wants to test the data.\n",
    "\n",
    "Complete a report for grading. The only data you need is to know that 28 of the 94 claimants are not nearly as “disabled” as their diagnosis suggests, and the hypothetical level of fraud is 16%."
   ]
  },
  {
   "cell_type": "code",
   "execution_count": 3,
   "id": "a6ede301-f1e6-43ad-af7b-cc9d89882b1b",
   "metadata": {},
   "outputs": [
    {
     "data": {
      "text/plain": [
       "(2.9229268377264077, 0.0034675798365736213)"
      ]
     },
     "execution_count": 3,
     "metadata": {},
     "output_type": "execute_result"
    }
   ],
   "source": [
    "t, p = proportions_ztest(28, 94, 0.16)\n",
    "t, p"
   ]
  },
  {
   "cell_type": "markdown",
   "id": "be36e4f1-915b-4db8-8b18-0579bb784787",
   "metadata": {},
   "source": [
    "## Scenario 2"
   ]
  },
  {
   "cell_type": "markdown",
   "id": "bac8cf97-e266-491b-9b9d-1aaa0d8fcb13",
   "metadata": {},
   "source": [
    "#### Medical researchers are trying to understand if four topical antiseptics are being used in the same ratio at three different clinics in town. They have access to medical records over the past 3 years, and have recorded each treatment where a topical antiseptic was used.\n",
    "\n",
    "Using a tally sheet, they have determined how many times each antiseptic was used in each of the three clinics, and they want to compare the antiseptic usage across the three clinics."
   ]
  },
  {
   "cell_type": "code",
   "execution_count": 4,
   "id": "d8f14dbe-96af-464e-a86b-c634329b9ec3",
   "metadata": {},
   "outputs": [],
   "source": [
    "## data\n",
    "antiseptics = pd.read_csv ('/Users/patriciaflores/Downloads/antiseptics.csv')"
   ]
  },
  {
   "cell_type": "code",
   "execution_count": 6,
   "id": "93001fdf-de85-4aac-8b7b-a6cbe6eb1552",
   "metadata": {},
   "outputs": [
    {
     "data": {
      "text/html": [
       "<div>\n",
       "<style scoped>\n",
       "    .dataframe tbody tr th:only-of-type {\n",
       "        vertical-align: middle;\n",
       "    }\n",
       "\n",
       "    .dataframe tbody tr th {\n",
       "        vertical-align: top;\n",
       "    }\n",
       "\n",
       "    .dataframe thead th {\n",
       "        text-align: right;\n",
       "    }\n",
       "</style>\n",
       "<table border=\"1\" class=\"dataframe\">\n",
       "  <thead>\n",
       "    <tr style=\"text-align: right;\">\n",
       "      <th></th>\n",
       "      <th>Clinic</th>\n",
       "      <th>Antiseptic Type</th>\n",
       "      <th>Number of applications</th>\n",
       "    </tr>\n",
       "  </thead>\n",
       "  <tbody>\n",
       "    <tr>\n",
       "      <th>0</th>\n",
       "      <td>1</td>\n",
       "      <td>A</td>\n",
       "      <td>22</td>\n",
       "    </tr>\n",
       "    <tr>\n",
       "      <th>1</th>\n",
       "      <td>1</td>\n",
       "      <td>B</td>\n",
       "      <td>71</td>\n",
       "    </tr>\n",
       "    <tr>\n",
       "      <th>2</th>\n",
       "      <td>1</td>\n",
       "      <td>C</td>\n",
       "      <td>8</td>\n",
       "    </tr>\n",
       "    <tr>\n",
       "      <th>3</th>\n",
       "      <td>1</td>\n",
       "      <td>D</td>\n",
       "      <td>49</td>\n",
       "    </tr>\n",
       "    <tr>\n",
       "      <th>4</th>\n",
       "      <td>2</td>\n",
       "      <td>A</td>\n",
       "      <td>38</td>\n",
       "    </tr>\n",
       "  </tbody>\n",
       "</table>\n",
       "</div>"
      ],
      "text/plain": [
       "   Clinic Antiseptic Type   Number of applications\n",
       "0       1                A                      22\n",
       "1       1                B                      71\n",
       "2       1                C                       8\n",
       "3       1                D                      49\n",
       "4       2                A                      38"
      ]
     },
     "execution_count": 6,
     "metadata": {},
     "output_type": "execute_result"
    }
   ],
   "source": [
    "antiseptics.head()"
   ]
  },
  {
   "cell_type": "code",
   "execution_count": 8,
   "id": "c093bfa3-c592-4518-9f20-d518a78c34e8",
   "metadata": {},
   "outputs": [],
   "source": [
    "antiseptics.rename(columns={'Antiseptic Type ': \"AT\", \"Number of applications\": \"Count\"}, inplace=True)\n",
    "antiseptics_expanded = antiseptics.copy()"
   ]
  },
  {
   "cell_type": "code",
   "execution_count": 9,
   "id": "be6488ca-0b71-4c0f-8d42-2ecfb2803d5e",
   "metadata": {},
   "outputs": [
    {
     "data": {
      "text/html": [
       "<div>\n",
       "<style scoped>\n",
       "    .dataframe tbody tr th:only-of-type {\n",
       "        vertical-align: middle;\n",
       "    }\n",
       "\n",
       "    .dataframe tbody tr th {\n",
       "        vertical-align: top;\n",
       "    }\n",
       "\n",
       "    .dataframe thead th {\n",
       "        text-align: right;\n",
       "    }\n",
       "</style>\n",
       "<table border=\"1\" class=\"dataframe\">\n",
       "  <thead>\n",
       "    <tr style=\"text-align: right;\">\n",
       "      <th>Clinic</th>\n",
       "      <th>1</th>\n",
       "      <th>2</th>\n",
       "      <th>3</th>\n",
       "    </tr>\n",
       "    <tr>\n",
       "      <th>AT</th>\n",
       "      <th></th>\n",
       "      <th></th>\n",
       "      <th></th>\n",
       "    </tr>\n",
       "  </thead>\n",
       "  <tbody>\n",
       "    <tr>\n",
       "      <th>A</th>\n",
       "      <td>22</td>\n",
       "      <td>38</td>\n",
       "      <td>84</td>\n",
       "    </tr>\n",
       "    <tr>\n",
       "      <th>B</th>\n",
       "      <td>71</td>\n",
       "      <td>112</td>\n",
       "      <td>298</td>\n",
       "    </tr>\n",
       "    <tr>\n",
       "      <th>C</th>\n",
       "      <td>8</td>\n",
       "      <td>14</td>\n",
       "      <td>37</td>\n",
       "    </tr>\n",
       "    <tr>\n",
       "      <th>D</th>\n",
       "      <td>49</td>\n",
       "      <td>69</td>\n",
       "      <td>182</td>\n",
       "    </tr>\n",
       "  </tbody>\n",
       "</table>\n",
       "</div>"
      ],
      "text/plain": [
       "Clinic   1    2    3\n",
       "AT                  \n",
       "A       22   38   84\n",
       "B       71  112  298\n",
       "C        8   14   37\n",
       "D       49   69  182"
      ]
     },
     "execution_count": 9,
     "metadata": {},
     "output_type": "execute_result"
    }
   ],
   "source": [
    "antiseptics_pivot = pd.pivot_table(antiseptics,index='AT',columns='Clinic',values=\"Count\")\n",
    "antiseptics_pivot"
   ]
  },
  {
   "cell_type": "code",
   "execution_count": 11,
   "id": "e0ef97f1-2902-4e07-b5eb-b85b559cf0d3",
   "metadata": {},
   "outputs": [
    {
     "data": {
      "text/html": [
       "<div>\n",
       "<style scoped>\n",
       "    .dataframe tbody tr th:only-of-type {\n",
       "        vertical-align: middle;\n",
       "    }\n",
       "\n",
       "    .dataframe tbody tr th {\n",
       "        vertical-align: top;\n",
       "    }\n",
       "\n",
       "    .dataframe thead th {\n",
       "        text-align: right;\n",
       "    }\n",
       "</style>\n",
       "<table border=\"1\" class=\"dataframe\">\n",
       "  <thead>\n",
       "    <tr style=\"text-align: right;\">\n",
       "      <th>Clinic</th>\n",
       "      <th>1</th>\n",
       "      <th>2</th>\n",
       "      <th>3</th>\n",
       "    </tr>\n",
       "    <tr>\n",
       "      <th>AT</th>\n",
       "      <th></th>\n",
       "      <th></th>\n",
       "      <th></th>\n",
       "    </tr>\n",
       "  </thead>\n",
       "  <tbody>\n",
       "    <tr>\n",
       "      <th>A</th>\n",
       "      <td>22</td>\n",
       "      <td>38</td>\n",
       "      <td>84</td>\n",
       "    </tr>\n",
       "    <tr>\n",
       "      <th>B</th>\n",
       "      <td>71</td>\n",
       "      <td>112</td>\n",
       "      <td>298</td>\n",
       "    </tr>\n",
       "    <tr>\n",
       "      <th>C</th>\n",
       "      <td>8</td>\n",
       "      <td>14</td>\n",
       "      <td>37</td>\n",
       "    </tr>\n",
       "    <tr>\n",
       "      <th>D</th>\n",
       "      <td>49</td>\n",
       "      <td>69</td>\n",
       "      <td>182</td>\n",
       "    </tr>\n",
       "  </tbody>\n",
       "</table>\n",
       "</div>"
      ],
      "text/plain": [
       "Clinic   1    2    3\n",
       "AT                  \n",
       "A       22   38   84\n",
       "B       71  112  298\n",
       "C        8   14   37\n",
       "D       49   69  182"
      ]
     },
     "execution_count": 11,
     "metadata": {},
     "output_type": "execute_result"
    }
   ],
   "source": [
    "antiseptics_crosstab = pd.crosstab(antiseptics_expanded['Clinic'], antiseptics_expanded['AT']).transpose()\n",
    "antiseptics_crosstab"
   ]
  },
  {
   "cell_type": "code",
   "execution_count": 12,
   "id": "d33aeb69-7e81-4891-839f-4a8ef9c90c5f",
   "metadata": {},
   "outputs": [
    {
     "data": {
      "text/plain": [
       "(1.225920250023835,\n",
       " 0.9755850789571424,\n",
       " 6,\n",
       " array([[ 21.95121951,  34.09756098,  87.95121951],\n",
       "        [ 73.32317073, 113.8953252 , 293.78150407],\n",
       "        [  8.99390244,  13.97052846,  36.03556911],\n",
       "        [ 45.73170732,  71.03658537, 183.23170732]]))"
      ]
     },
     "execution_count": 12,
     "metadata": {},
     "output_type": "execute_result"
    }
   ],
   "source": [
    "stats.chi2_contingency(antiseptics_crosstab)"
   ]
  },
  {
   "cell_type": "code",
   "execution_count": 13,
   "id": "add122e0-5d0f-4184-babb-764ccd938f9c",
   "metadata": {},
   "outputs": [
    {
     "data": {
      "text/plain": [
       "(1.225920250023835,\n",
       " 0.9755850789571424,\n",
       " 6,\n",
       " array([[ 21.95121951,  34.09756098,  87.95121951],\n",
       "        [ 73.32317073, 113.8953252 , 293.78150407],\n",
       "        [  8.99390244,  13.97052846,  36.03556911],\n",
       "        [ 45.73170732,  71.03658537, 183.23170732]]))"
      ]
     },
     "execution_count": 13,
     "metadata": {},
     "output_type": "execute_result"
    }
   ],
   "source": [
    "stats.chi2_contingency(antiseptics_pivot)"
   ]
  },
  {
   "cell_type": "markdown",
   "id": "f3b4c730-7780-4a93-a28c-a5d896f33ba2",
   "metadata": {},
   "source": [
    "## Scenario 3"
   ]
  },
  {
   "cell_type": "markdown",
   "id": "259b5dca-2aa6-4ce2-b2ac-3c328323a178",
   "metadata": {},
   "source": [
    "#### A financial institution is interested in the savings practices of different demographic groups. They have demographic data for all of their account holders, and have used those criteria to split their customers up into 4 groups.\n",
    "\n",
    "They are going to use the results to do some targeted marketing. In order to determine savings practices, they are going to use the average savings account balance over the past 3 months for their account holders. In other words, they will have one number (average account balance) for each account.\n",
    "\n",
    "Each demographic group has between 40 and 60 accounts they will look at."
   ]
  },
  {
   "cell_type": "code",
   "execution_count": 14,
   "id": "f5ffcecc-66d5-4847-b3aa-e5875fc152be",
   "metadata": {},
   "outputs": [],
   "source": [
    "## data\n",
    "savings = pd.read_csv ('/Users/patriciaflores/Downloads/savings.csv')"
   ]
  },
  {
   "cell_type": "code",
   "execution_count": 15,
   "id": "f004844b-7d10-4f78-8122-32dd32f6b8dc",
   "metadata": {},
   "outputs": [],
   "source": [
    "import scipy\n",
    "from scipy import stats\n",
    "from statsmodels.stats.multicomp import pairwise_tukeyhsd\n",
    "from statsmodels.stats.multicomp import MultiComparison"
   ]
  },
  {
   "cell_type": "code",
   "execution_count": 16,
   "id": "5e86d6fa-6394-466d-8efc-6f4b67582283",
   "metadata": {},
   "outputs": [
    {
     "data": {
      "text/html": [
       "<div>\n",
       "<style scoped>\n",
       "    .dataframe tbody tr th:only-of-type {\n",
       "        vertical-align: middle;\n",
       "    }\n",
       "\n",
       "    .dataframe tbody tr th {\n",
       "        vertical-align: top;\n",
       "    }\n",
       "\n",
       "    .dataframe thead th {\n",
       "        text-align: right;\n",
       "    }\n",
       "</style>\n",
       "<table border=\"1\" class=\"dataframe\">\n",
       "  <thead>\n",
       "    <tr style=\"text-align: right;\">\n",
       "      <th></th>\n",
       "      <th>Group A</th>\n",
       "      <th>Group B</th>\n",
       "      <th>Group C</th>\n",
       "      <th>Group D</th>\n",
       "    </tr>\n",
       "  </thead>\n",
       "  <tbody>\n",
       "    <tr>\n",
       "      <th>0</th>\n",
       "      <td>21383.06</td>\n",
       "      <td>17077.54</td>\n",
       "      <td>13636.38</td>\n",
       "      <td>14582.73</td>\n",
       "    </tr>\n",
       "    <tr>\n",
       "      <th>1</th>\n",
       "      <td>19729.92</td>\n",
       "      <td>17258.06</td>\n",
       "      <td>5156.36</td>\n",
       "      <td>12880.28</td>\n",
       "    </tr>\n",
       "    <tr>\n",
       "      <th>2</th>\n",
       "      <td>24071.53</td>\n",
       "      <td>20652.91</td>\n",
       "      <td>4446.92</td>\n",
       "      <td>16412.72</td>\n",
       "    </tr>\n",
       "    <tr>\n",
       "      <th>3</th>\n",
       "      <td>19056.28</td>\n",
       "      <td>20845.06</td>\n",
       "      <td>4892.59</td>\n",
       "      <td>14020.00</td>\n",
       "    </tr>\n",
       "    <tr>\n",
       "      <th>4</th>\n",
       "      <td>19147.18</td>\n",
       "      <td>22296.64</td>\n",
       "      <td>14099.38</td>\n",
       "      <td>16467.70</td>\n",
       "    </tr>\n",
       "  </tbody>\n",
       "</table>\n",
       "</div>"
      ],
      "text/plain": [
       "    Group A   Group B   Group C   Group D\n",
       "0  21383.06  17077.54  13636.38  14582.73\n",
       "1  19729.92  17258.06   5156.36  12880.28\n",
       "2  24071.53  20652.91   4446.92  16412.72\n",
       "3  19056.28  20845.06   4892.59  14020.00\n",
       "4  19147.18  22296.64  14099.38  16467.70"
      ]
     },
     "execution_count": 16,
     "metadata": {},
     "output_type": "execute_result"
    }
   ],
   "source": [
    "savings.head()"
   ]
  },
  {
   "cell_type": "code",
   "execution_count": 17,
   "id": "7110c2d9-c708-466e-ab29-bc46d1ed4914",
   "metadata": {},
   "outputs": [
    {
     "name": "stdout",
     "output_type": "stream",
     "text": [
      "<class 'pandas.core.frame.DataFrame'>\n",
      "RangeIndex: 58 entries, 0 to 57\n",
      "Data columns (total 4 columns):\n",
      " #   Column   Non-Null Count  Dtype  \n",
      "---  ------   --------------  -----  \n",
      " 0   Group A  51 non-null     float64\n",
      " 1   Group B  47 non-null     float64\n",
      " 2   Group C  55 non-null     float64\n",
      " 3   Group D  58 non-null     float64\n",
      "dtypes: float64(4)\n",
      "memory usage: 1.9 KB\n"
     ]
    }
   ],
   "source": [
    "savings.info()"
   ]
  },
  {
   "cell_type": "code",
   "execution_count": 18,
   "id": "da13ca39-8de3-4546-9e54-7f826c412b89",
   "metadata": {},
   "outputs": [],
   "source": [
    "savings_expanded=pd.melt(savings,var_name='Group', value_name='$')"
   ]
  },
  {
   "cell_type": "code",
   "execution_count": 19,
   "id": "d4a1b6d3-a399-4509-a2fd-728f20952ab0",
   "metadata": {},
   "outputs": [],
   "source": [
    "savings_expanded = savings_expanded.replace(savings.columns, [0,1,2,3])"
   ]
  },
  {
   "cell_type": "code",
   "execution_count": 20,
   "id": "1acfb0cf-1c93-4d44-927e-4d1408805a59",
   "metadata": {},
   "outputs": [
    {
     "data": {
      "text/html": [
       "<div>\n",
       "<style scoped>\n",
       "    .dataframe tbody tr th:only-of-type {\n",
       "        vertical-align: middle;\n",
       "    }\n",
       "\n",
       "    .dataframe tbody tr th {\n",
       "        vertical-align: top;\n",
       "    }\n",
       "\n",
       "    .dataframe thead th {\n",
       "        text-align: right;\n",
       "    }\n",
       "</style>\n",
       "<table border=\"1\" class=\"dataframe\">\n",
       "  <thead>\n",
       "    <tr style=\"text-align: right;\">\n",
       "      <th></th>\n",
       "      <th>Group</th>\n",
       "      <th>$</th>\n",
       "    </tr>\n",
       "  </thead>\n",
       "  <tbody>\n",
       "    <tr>\n",
       "      <th>0</th>\n",
       "      <td>0</td>\n",
       "      <td>21383.06</td>\n",
       "    </tr>\n",
       "    <tr>\n",
       "      <th>1</th>\n",
       "      <td>0</td>\n",
       "      <td>19729.92</td>\n",
       "    </tr>\n",
       "    <tr>\n",
       "      <th>2</th>\n",
       "      <td>0</td>\n",
       "      <td>24071.53</td>\n",
       "    </tr>\n",
       "    <tr>\n",
       "      <th>3</th>\n",
       "      <td>0</td>\n",
       "      <td>19056.28</td>\n",
       "    </tr>\n",
       "    <tr>\n",
       "      <th>4</th>\n",
       "      <td>0</td>\n",
       "      <td>19147.18</td>\n",
       "    </tr>\n",
       "  </tbody>\n",
       "</table>\n",
       "</div>"
      ],
      "text/plain": [
       "   Group         $\n",
       "0      0  21383.06\n",
       "1      0  19729.92\n",
       "2      0  24071.53\n",
       "3      0  19056.28\n",
       "4      0  19147.18"
      ]
     },
     "execution_count": 20,
     "metadata": {},
     "output_type": "execute_result"
    }
   ],
   "source": [
    "savings_expanded.head()"
   ]
  },
  {
   "cell_type": "code",
   "execution_count": 21,
   "id": "d1847676-5a79-4952-9f4b-f6231a094b47",
   "metadata": {},
   "outputs": [
    {
     "name": "stderr",
     "output_type": "stream",
     "text": [
      "/usr/local/Cellar/jupyterlab/3.3.2/libexec/lib/python3.9/site-packages/seaborn/distributions.py:2619: FutureWarning: `distplot` is a deprecated function and will be removed in a future version. Please adapt your code to use either `displot` (a figure-level function with similar flexibility) or `histplot` (an axes-level function for histograms).\n",
      "  warnings.warn(msg, FutureWarning)\n"
     ]
    },
    {
     "data": {
      "text/plain": [
       "<AxesSubplot:ylabel='Density'>"
      ]
     },
     "execution_count": 21,
     "metadata": {},
     "output_type": "execute_result"
    },
    {
     "data": {
      "image/png": "[encoded data removed]",
      "text/plain": [
       "<Figure size 432x288 with 1 Axes>"
      ]
     },
     "metadata": {
      "needs_background": "light"
     },
     "output_type": "display_data"
    }
   ],
   "source": [
    "sns.distplot(savings.values[~np.isnan(savings.values)])"
   ]
  },
  {
   "cell_type": "code",
   "execution_count": 22,
   "id": "cc2f42e2-e593-4d55-a7f7-c0755f200ab4",
   "metadata": {},
   "outputs": [
    {
     "data": {
      "text/plain": [
       "BartlettResult(statistic=3639.1753663764925, pvalue=0.0)"
      ]
     },
     "execution_count": 22,
     "metadata": {},
     "output_type": "execute_result"
    }
   ],
   "source": [
    "scipy.stats.bartlett(savings_expanded['$'], savings_expanded['Group'])"
   ]
  },
  {
   "cell_type": "code",
   "execution_count": 24,
   "id": "525fcb15-93d4-42a1-a6b2-96fe51927eff",
   "metadata": {},
   "outputs": [
    {
     "data": {
      "text/plain": [
       "FlignerResult(statistic=292.8661128532466, pvalue=1.1805018303420083e-65)"
      ]
     },
     "execution_count": 24,
     "metadata": {},
     "output_type": "execute_result"
    }
   ],
   "source": [
    "scipy.stats.fligner(savings_expanded['$'], savings_expanded['Group'])"
   ]
  },
  {
   "cell_type": "code",
   "execution_count": 27,
   "id": "010a408f-8a65-41a1-b48a-a36be3e612ed",
   "metadata": {},
   "outputs": [],
   "source": [
    "data = [savings[col].dropna() for col in savings]"
   ]
  },
  {
   "cell_type": "code",
   "execution_count": 28,
   "id": "3124b662-44e3-431b-bcbf-584f674f7f5e",
   "metadata": {},
   "outputs": [
    {
     "data": {
      "text/plain": [
       "F_onewayResult(statistic=203.25514198903812, pvalue=1.9933595578005075e-61)"
      ]
     },
     "execution_count": 28,
     "metadata": {},
     "output_type": "execute_result"
    }
   ],
   "source": [
    "stats.f_oneway(*data)"
   ]
  },
  {
   "cell_type": "markdown",
   "id": "d1a61d6e-8914-41a2-a924-f06cd470a835",
   "metadata": {},
   "source": [
    "## Scenario 4"
   ]
  },
  {
   "cell_type": "markdown",
   "id": "fe74b511-3597-4afd-8d76-68870e534ca0",
   "metadata": {},
   "source": [
    "#### The local school board conducted a poll to gauge public sentiment about a school bond. They asked respondents if they favored or opposed a bond in the upcoming election. The respondents were asked some demographic questions, too.\n",
    "\n",
    "Complete a report for grading. The counts for the different groups are as follows:\n",
    "\n",
    "With school age children and favorable - 374\n",
    "With school age children and unfavorable - 129\n",
    "Without school age children and favorable - 171\n",
    "Without school age children and unfavorable - 74\n",
    "Use these data to complete your analysis, and use alpha = 0.05."
   ]
  },
  {
   "cell_type": "code",
   "execution_count": null,
   "id": "9e544879-8634-42b4-8704-57d8f9abe9e1",
   "metadata": {},
   "outputs": [],
   "source": [
    "t, p = proportions_ztest([374, 171], [374+129, 180+174])\n",
    "t, p"
   ]
  }
 ],
 "metadata": {
  "kernelspec": {
   "display_name": "Python 3 (ipykernel)",
   "language": "python",
   "name": "python3"
  },
  "language_info": {
   "codemirror_mode": {
    "name": "ipython",
    "version": 3
   },
   "file_extension": ".py",
   "mimetype": "text/x-python",
   "name": "python",
   "nbconvert_exporter": "python",
   "pygments_lexer": "ipython3",
   "version": "3.9.12"
  }
 },
 "nbformat": 4,
 "nbformat_minor": 5
}
