{
 "cells": [
  {
   "cell_type": "markdown",
   "id": "12bd3f0d-4ce7-4996-a56c-e31cc9c7a798",
   "metadata": {},
   "source": [
    "### Import Packages"
   ]
  },
  {
   "cell_type": "code",
   "execution_count": 8,
   "id": "6cb81187-6f31-4c64-8958-7f70f6c68c5e",
   "metadata": {},
   "outputs": [],
   "source": [
    "import pandas as pd\n",
    "import numpy as np\n",
    "import matplotlib.pyplot as plt\n",
    "from pylab import *\n",
    "import seaborn as sns\n",
    "%matplotlib inline\n",
    "import statsmodels.api as sm\n",
    "import statsmodels.stats.api as sms\n",
    "from scipy.stats import boxcox"
   ]
  },
  {
   "cell_type": "code",
   "execution_count": 3,
   "id": "7db92103-5d94-41bc-8d31-63cb14c69529",
   "metadata": {},
   "outputs": [
    {
     "ename": "ModuleNotFoundError",
     "evalue": "No module named 'patsy'",
     "output_type": "error",
     "traceback": [
      "\u001b[0;31m---------------------------------------------------------------------------\u001b[0m",
      "\u001b[0;31mModuleNotFoundError\u001b[0m                       Traceback (most recent call last)",
      "Input \u001b[0;32mIn [3]\u001b[0m, in \u001b[0;36m<cell line: 2>\u001b[0;34m()\u001b[0m\n\u001b[1;32m      1\u001b[0m \u001b[38;5;28;01mimport\u001b[39;00m \u001b[38;5;21;01mstatsmodels\u001b[39;00m\u001b[38;5;21;01m.\u001b[39;00m\u001b[38;5;21;01mtools\u001b[39;00m\u001b[38;5;21;01m.\u001b[39;00m\u001b[38;5;21;01mdata\u001b[39;00m \u001b[38;5;28;01mas\u001b[39;00m \u001b[38;5;21;01mdata_util\u001b[39;00m\n\u001b[0;32m----> 2\u001b[0m \u001b[38;5;28;01mfrom\u001b[39;00m \u001b[38;5;21;01mpatsy\u001b[39;00m \u001b[38;5;28;01mimport\u001b[39;00m dmatrices, NAAction\n",
      "\u001b[0;31mModuleNotFoundError\u001b[0m: No module named 'patsy'"
     ]
    }
   ],
   "source": [
    "import statsmodels.tools.data as data_util\n",
    "from patsy import dmatrices, NAAction"
   ]
  },
  {
   "cell_type": "code",
   "execution_count": 4,
   "id": "a5428dcc-5d12-4b7a-8971-03b05dfb3a97",
   "metadata": {},
   "outputs": [
    {
     "name": "stdout",
     "output_type": "stream",
     "text": [
      "Requirement already satisfied: pandas in /usr/local/Cellar/jupyterlab/3.3.2/libexec/lib/python3.9/site-packages (1.4.2)\n",
      "Requirement already satisfied: python-dateutil>=2.8.1 in /usr/local/Cellar/jupyterlab/3.3.2/libexec/lib/python3.9/site-packages (from pandas) (2.8.2)\n",
      "Requirement already satisfied: numpy>=1.18.5 in /usr/local/lib/python3.9/site-packages (from pandas) (1.22.4)\n",
      "Requirement already satisfied: pytz>=2020.1 in /usr/local/Cellar/jupyterlab/3.3.2/libexec/lib/python3.9/site-packages (from pandas) (2022.1)\n",
      "Requirement already satisfied: six>=1.5 in /usr/local/Cellar/six/1.16.0_2/lib/python3.9/site-packages (from python-dateutil>=2.8.1->pandas) (1.16.0)\n",
      "\u001b[33mWARNING: You are using pip version 21.3.1; however, version 22.2.2 is available.\n",
      "You should consider upgrading via the '/usr/local/Cellar/jupyterlab/3.3.2/libexec/bin/python3.9 -m pip install --upgrade pip' command.\u001b[0m\n",
      "Note: you may need to restart the kernel to use updated packages.\n"
     ]
    }
   ],
   "source": [
    "pip install pandas"
   ]
  },
  {
   "cell_type": "code",
   "execution_count": 5,
   "id": "b61cc647-9885-4b6d-95ed-3992f14f7e05",
   "metadata": {},
   "outputs": [
    {
     "name": "stdout",
     "output_type": "stream",
     "text": [
      "Requirement already satisfied: statsmodels in /usr/local/Cellar/jupyterlab/3.3.2/libexec/lib/python3.9/site-packages (0.13.2)\n",
      "\u001b[33mWARNING: You are using pip version 21.3.1; however, version 22.2.2 is available.\n",
      "You should consider upgrading via the '/usr/local/Cellar/jupyterlab/3.3.2/libexec/bin/python3.9 -m pip install --upgrade pip' command.\u001b[0m\n",
      "Note: you may need to restart the kernel to use updated packages.\n"
     ]
    }
   ],
   "source": [
    "pip install --upgrade --no-deps statsmodels"
   ]
  },
  {
   "cell_type": "code",
   "execution_count": 7,
   "id": "88512a92-bb18-4c20-8400-71b5c1f95f67",
   "metadata": {},
   "outputs": [
    {
     "name": "stdout",
     "output_type": "stream",
     "text": [
      "Collecting patsy\n",
      "  Downloading patsy-0.5.2-py2.py3-none-any.whl (233 kB)\n",
      "     |████████████████████████████████| 233 kB 3.7 MB/s            \n",
      "\u001b[?25hRequirement already satisfied: six in /usr/local/Cellar/six/1.16.0_2/lib/python3.9/site-packages (from patsy) (1.16.0)\n",
      "Requirement already satisfied: numpy>=1.4 in /usr/local/lib/python3.9/site-packages (from patsy) (1.22.4)\n",
      "Installing collected packages: patsy\n",
      "Successfully installed patsy-0.5.2\n",
      "\u001b[33mWARNING: You are using pip version 21.3.1; however, version 22.2.2 is available.\n",
      "You should consider upgrading via the '/usr/local/Cellar/jupyterlab/3.3.2/libexec/bin/python3.9 -m pip install --upgrade pip' command.\u001b[0m\n",
      "Note: you may need to restart the kernel to use updated packages.\n"
     ]
    }
   ],
   "source": [
    "pip install patsy"
   ]
  },
  {
   "cell_type": "markdown",
   "id": "e51ee049-878b-4531-86ac-62a66e915439",
   "metadata": {},
   "source": [
    "### Read in Data"
   ]
  },
  {
   "cell_type": "code",
   "execution_count": 9,
   "id": "effc785f-7fbf-432b-b014-f39e1920fefa",
   "metadata": {},
   "outputs": [],
   "source": [
    "#to import my data\n",
    "heights = pd.read_csv('/Users/patriciaflores/Downloads/heights.csv')"
   ]
  },
  {
   "cell_type": "code",
   "execution_count": 10,
   "id": "32bc0e83-7e46-4239-a390-01b564908692",
   "metadata": {},
   "outputs": [
    {
     "data": {
      "text/html": [
       "<div>\n",
       "<style scoped>\n",
       "    .dataframe tbody tr th:only-of-type {\n",
       "        vertical-align: middle;\n",
       "    }\n",
       "\n",
       "    .dataframe tbody tr th {\n",
       "        vertical-align: top;\n",
       "    }\n",
       "\n",
       "    .dataframe thead th {\n",
       "        text-align: right;\n",
       "    }\n",
       "</style>\n",
       "<table border=\"1\" class=\"dataframe\">\n",
       "  <thead>\n",
       "    <tr style=\"text-align: right;\">\n",
       "      <th></th>\n",
       "      <th>AM_Height</th>\n",
       "      <th>PM_Height</th>\n",
       "    </tr>\n",
       "  </thead>\n",
       "  <tbody>\n",
       "    <tr>\n",
       "      <th>0</th>\n",
       "      <td>1728.75</td>\n",
       "      <td>1720.25</td>\n",
       "    </tr>\n",
       "    <tr>\n",
       "      <th>1</th>\n",
       "      <td>1538.25</td>\n",
       "      <td>1528.50</td>\n",
       "    </tr>\n",
       "    <tr>\n",
       "      <th>2</th>\n",
       "      <td>1462.25</td>\n",
       "      <td>1452.50</td>\n",
       "    </tr>\n",
       "    <tr>\n",
       "      <th>3</th>\n",
       "      <td>1782.50</td>\n",
       "      <td>1776.50</td>\n",
       "    </tr>\n",
       "    <tr>\n",
       "      <th>4</th>\n",
       "      <td>1671.00</td>\n",
       "      <td>1667.00</td>\n",
       "    </tr>\n",
       "  </tbody>\n",
       "</table>\n",
       "</div>"
      ],
      "text/plain": [
       "   AM_Height  PM_Height\n",
       "0    1728.75    1720.25\n",
       "1    1538.25    1528.50\n",
       "2    1462.25    1452.50\n",
       "3    1782.50    1776.50\n",
       "4    1671.00    1667.00"
      ]
     },
     "execution_count": 10,
     "metadata": {},
     "output_type": "execute_result"
    }
   ],
   "source": [
    "heights.head()"
   ]
  },
  {
   "cell_type": "markdown",
   "id": "73194aaa-e9d6-4cec-b526-e22c996f9edf",
   "metadata": {},
   "source": [
    "### Test Assumptions"
   ]
  },
  {
   "cell_type": "markdown",
   "id": "8a59808c-5b59-4200-b3a7-3571236aa081",
   "metadata": {},
   "source": [
    "# Linearity"
   ]
  },
  {
   "cell_type": "code",
   "execution_count": 11,
   "id": "2f6d3a92-7032-4067-9593-857926c6e3c0",
   "metadata": {},
   "outputs": [
    {
     "data": {
      "text/plain": [
       "<seaborn.axisgrid.PairGrid at 0x11b51de80>"
      ]
     },
     "execution_count": 11,
     "metadata": {},
     "output_type": "execute_result"
    },
    {
     "data": {
      "image/png": "[encoded data removed]",
      "text/plain": [
       "<Figure size 360x360 with 6 Axes>"
      ]
     },
     "metadata": {
      "needs_background": "light"
     },
     "output_type": "display_data"
    }
   ],
   "source": [
    "sns.pairplot(heights)"
   ]
  },
  {
   "cell_type": "markdown",
   "id": "38af8f70-a182-4eab-956b-7576c3c0cbe7",
   "metadata": {},
   "source": [
    "### Homoscedasticity"
   ]
  },
  {
   "cell_type": "code",
   "execution_count": 12,
   "id": "bd3ad686-25ef-4c56-ade5-50151b40f58b",
   "metadata": {},
   "outputs": [],
   "source": [
    "x = heights['AM_Height']\n",
    "y = heights['PM_Height']"
   ]
  },
  {
   "cell_type": "code",
   "execution_count": 13,
   "id": "33959c40-a984-4d86-b9f1-b371207cc95f",
   "metadata": {},
   "outputs": [],
   "source": [
    "model = sm.OLS(y,x).fit()"
   ]
  },
  {
   "cell_type": "code",
   "execution_count": 14,
   "id": "e5eeac6f-9d15-47e6-b4de-c0b291883879",
   "metadata": {},
   "outputs": [],
   "source": [
    "pred_val = model.fittedvalues.copy()\n",
    "true_val = heights['PM_Height'].values.copy()\n",
    "residual = true_val - pred_val"
   ]
  },
  {
   "cell_type": "code",
   "execution_count": 15,
   "id": "7416f18b-08a2-45f5-80b3-a660a3fca0ea",
   "metadata": {},
   "outputs": [
    {
     "data": {
      "image/png": "[encoded data removed]",
      "text/plain": [
       "<Figure size 432x180 with 1 Axes>"
      ]
     },
     "metadata": {
      "needs_background": "light"
     },
     "output_type": "display_data"
    }
   ],
   "source": [
    "fig, ax = plt.subplots(figsize=(6,2.5))\n",
    "_ = ax.scatter(residual, pred_val)"
   ]
  },
  {
   "cell_type": "code",
   "execution_count": 16,
   "id": "a8be9b4e-149d-46ca-8438-b7c4b4ce0013",
   "metadata": {},
   "outputs": [
    {
     "data": {
      "text/plain": [
       "(17.281807808596078, nan, 29.14523614469984, 3.300037241076595e-06)"
      ]
     },
     "execution_count": 16,
     "metadata": {},
     "output_type": "execute_result"
    }
   ],
   "source": [
    "sms.diagnostic.het_breuschpagan(residual, heights[['AM_Height']])"
   ]
  },
  {
   "cell_type": "markdown",
   "id": "fcf65418-39da-4979-97a7-0589b30e96c3",
   "metadata": {},
   "source": [
    "### p value is significant"
   ]
  },
  {
   "cell_type": "code",
   "execution_count": 17,
   "id": "ceb7b0ad-bfbd-4b51-8380-e1ba530ba971",
   "metadata": {},
   "outputs": [
    {
     "data": {
      "text/plain": [
       "Ttest_1sampResult(statistic=-0.004476102027705233, pvalue=0.9964526463756713)"
      ]
     },
     "execution_count": 17,
     "metadata": {},
     "output_type": "execute_result"
    }
   ],
   "source": [
    "sms.linear_harvey_collier(model)"
   ]
  },
  {
   "cell_type": "code",
   "execution_count": 18,
   "id": "7aae591a-92d7-4263-a228-74935a4688bb",
   "metadata": {},
   "outputs": [],
   "source": [
    "transformed, _ = boxcox(heights['AM_Height'])"
   ]
  },
  {
   "cell_type": "code",
   "execution_count": 19,
   "id": "f69a08b0-ffac-4ab6-b7cf-685e32d96098",
   "metadata": {},
   "outputs": [
    {
     "data": {
      "text/plain": [
       "(array([1., 1., 4., 6., 4., 9., 7., 3., 3., 3.]),\n",
       " array([5.21052681e+11, 5.92351778e+11, 6.63650875e+11, 7.34949971e+11,\n",
       "        8.06249068e+11, 8.77548165e+11, 9.48847262e+11, 1.02014636e+12,\n",
       "        1.09144546e+12, 1.16274455e+12, 1.23404365e+12]),\n",
       " <BarContainer object of 10 artists>)"
      ]
     },
     "execution_count": 19,
     "metadata": {},
     "output_type": "execute_result"
    },
    {
     "data": {
      "image/png": "[encoded data removed]",
      "text/plain": [
       "<Figure size 432x288 with 1 Axes>"
      ]
     },
     "metadata": {
      "needs_background": "light"
     },
     "output_type": "display_data"
    }
   ],
   "source": [
    "plt.hist(transformed)"
   ]
  },
  {
   "cell_type": "code",
   "execution_count": 20,
   "id": "7363be4b-4d52-411a-bcdd-aecef6db5efa",
   "metadata": {},
   "outputs": [],
   "source": [
    "x = transformed\n",
    "model1 = sm.OLS(y,x).fit()"
   ]
  },
  {
   "cell_type": "code",
   "execution_count": 21,
   "id": "5119df0f-a247-4571-811b-5b6f6a014667",
   "metadata": {},
   "outputs": [],
   "source": [
    "pred_val = model1.fittedvalues.copy()\n",
    "true_val = heights['PM_Height'].values.copy()\n",
    "residual = true_val - pred_val"
   ]
  },
  {
   "cell_type": "code",
   "execution_count": 22,
   "id": "cf08ecb9-6a4b-4b7b-bb66-97f01a4b1b9f",
   "metadata": {},
   "outputs": [
    {
     "data": {
      "image/png": "[encoded data removed]",
      "text/plain": [
       "<Figure size 432x180 with 1 Axes>"
      ]
     },
     "metadata": {
      "needs_background": "light"
     },
     "output_type": "display_data"
    }
   ],
   "source": [
    "fig, ax = plt.subplots(figsize=(6,2.5))\n",
    "_ = ax.scatter(residual, pred_val)"
   ]
  },
  {
   "cell_type": "code",
   "execution_count": 23,
   "id": "27511564-01cb-4c23-9eae-36c82c164d04",
   "metadata": {},
   "outputs": [
    {
     "data": {
      "text/plain": [
       "(16.08941979885967, nan, 25.83547981451374, 9.088971505485298e-06)"
      ]
     },
     "execution_count": 23,
     "metadata": {},
     "output_type": "execute_result"
    }
   ],
   "source": [
    "sms.diagnostic.het_breuschpagan(residual, heights[['AM_Height']])"
   ]
  },
  {
   "cell_type": "code",
   "execution_count": 24,
   "id": "995133c0-48dc-4a43-a1bd-7b121a4c73b9",
   "metadata": {},
   "outputs": [
    {
     "data": {
      "text/plain": [
       "Ttest_1sampResult(statistic=-0.004476102027705233, pvalue=0.9964526463756713)"
      ]
     },
     "execution_count": 24,
     "metadata": {},
     "output_type": "execute_result"
    }
   ],
   "source": [
    "sms.linear_harvey_collier(model)"
   ]
  },
  {
   "cell_type": "markdown",
   "id": "eec6572e-e861-4be6-9c03-f0e85c39b6a6",
   "metadata": {},
   "source": [
    "### Screening for outliers"
   ]
  },
  {
   "cell_type": "code",
   "execution_count": 25,
   "id": "53ee4267-67ba-4ded-bac3-bba80f2af26b",
   "metadata": {},
   "outputs": [
    {
     "data": {
      "image/png": "[encoded data removed]",
      "text/plain": [
       "<Figure size 864x576 with 1 Axes>"
      ]
     },
     "metadata": {
      "needs_background": "light"
     },
     "output_type": "display_data"
    }
   ],
   "source": [
    "fig, ax = plt.subplots(figsize=(12,8))\n",
    "fig = sm.graphics.influence_plot(model, alpha = .05, ax = ax, criterion=\"cooks\")"
   ]
  },
  {
   "cell_type": "markdown",
   "id": "e828a0b3-0a94-4158-a021-2933147cdf5a",
   "metadata": {},
   "source": [
    "### #36 is an issue"
   ]
  },
  {
   "cell_type": "code",
   "execution_count": 26,
   "id": "b3be97f5-f3d5-49cc-9879-718adeb4189e",
   "metadata": {},
   "outputs": [
    {
     "name": "stdout",
     "output_type": "stream",
     "text": [
      "    dfb_AM_Height   cooks_d  standard_resid  hat_diag  dffits_internal  \\\n",
      "0        0.085810  0.007499        0.532882  0.025727         0.086594   \n",
      "1       -0.052524  0.002820       -0.368264  0.020370        -0.053103   \n",
      "2       -0.072577  0.005364       -0.534832  0.018407        -0.073238   \n",
      "3        0.276961  0.073531        1.617035  0.027352         0.271167   \n",
      "4        0.352303  0.112733        2.139438  0.024037         0.335757   \n",
      "5       -0.096874  0.009521       -0.657675  0.021538        -0.097576   \n",
      "6        0.018976  0.000369        0.122229  0.024116         0.019215   \n",
      "7       -0.214747  0.045255       -1.314577  0.025519        -0.212733   \n",
      "8       -0.064154  0.004203       -0.419385  0.023338        -0.064829   \n",
      "9       -0.113058  0.012961       -0.674508  0.027698        -0.113845   \n",
      "10      -0.053609  0.002940       -0.315564  0.028680        -0.054224   \n",
      "11      -0.281081  0.075697       -1.622878  0.027938        -0.275131   \n",
      "12      -0.176694  0.031094       -1.076336  0.026138        -0.176335   \n",
      "13       0.051448  0.002708        0.321793  0.025482         0.052036   \n",
      "14      -0.069542  0.004937       -0.432515  0.025712        -0.070263   \n",
      "15      -0.061409  0.003854       -0.376442  0.026477        -0.062081   \n",
      "16       0.068905  0.004847        0.429265  0.025631         0.069622   \n",
      "17       0.197095  0.038152        1.302835  0.021983         0.195325   \n",
      "18       0.049691  0.002527        0.304353  0.026552         0.050266   \n",
      "19      -0.116371  0.013697       -0.744374  0.024124        -0.117035   \n",
      "20      -0.127685  0.016448       -0.808408  0.024551        -0.128251   \n",
      "21       0.115690  0.013543        0.733538  0.024551         0.116373   \n",
      "22       0.117388  0.013921        0.775677  0.022613         0.117986   \n",
      "23      -0.069366  0.004911       -0.444341  0.024268        -0.070076   \n",
      "24       0.106184  0.011410        0.731524  0.020876         0.106815   \n",
      "25       0.106885  0.011585        0.672029  0.025011         0.107634   \n",
      "26      -0.267326  0.067992       -1.701377  0.022949        -0.260752   \n",
      "27       0.207019  0.041879        1.374662  0.021681         0.204644   \n",
      "28       0.050733  0.002632        0.342039  0.022004         0.051304   \n",
      "29       0.019950  0.000408        0.135231  0.021825         0.020200   \n",
      "30      -0.025939  0.000690       -0.162498  0.025453        -0.026261   \n",
      "31      -0.141910  0.020293       -0.837400  0.028125        -0.142453   \n",
      "32       0.289778  0.078820        1.841953  0.022704         0.280748   \n",
      "33      -0.061292  0.003839       -0.386660  0.025033        -0.061957   \n",
      "34       0.180001  0.032174        1.127905  0.024667         0.179372   \n",
      "35      -0.195752  0.037993       -1.153862  0.027745        -0.194919   \n",
      "36      -0.332523  0.101338       -2.063200  0.023253        -0.318336   \n",
      "37       0.035225  0.001271        0.226301  0.024217         0.035651   \n",
      "38       0.190039  0.035661        1.220690  0.023373         0.188842   \n",
      "39      -0.145641  0.021255       -0.958932  0.022592        -0.145791   \n",
      "40       0.229833  0.051530        1.397967  0.025690         0.227003   \n",
      "\n",
      "    student_resid    dffits  \n",
      "0        0.528056  0.085810  \n",
      "1       -0.364250 -0.052524  \n",
      "2       -0.530003 -0.072577  \n",
      "3        1.651589  0.276961  \n",
      "4        2.244866  0.352303  \n",
      "5       -0.652942 -0.096874  \n",
      "6        0.120714  0.018976  \n",
      "7       -1.327023 -0.214747  \n",
      "8       -0.415023 -0.064154  \n",
      "9       -0.669843 -0.113058  \n",
      "10      -0.311983 -0.053609  \n",
      "11      -1.657977 -0.281081  \n",
      "12      -1.078530 -0.176694  \n",
      "13       0.318157  0.051448  \n",
      "14      -0.428077 -0.069542  \n",
      "15      -0.372366 -0.061409  \n",
      "16       0.424845  0.068905  \n",
      "17       1.314642  0.197095  \n",
      "18       0.300873  0.049691  \n",
      "19      -0.740155 -0.116371  \n",
      "20      -0.804841 -0.127685  \n",
      "21       0.729232  0.115690  \n",
      "22       0.771746  0.117388  \n",
      "23      -0.439838 -0.069366  \n",
      "24       0.727202  0.106184  \n",
      "25       0.667353  0.106885  \n",
      "26      -1.744275 -0.267326  \n",
      "27       1.390615  0.207019  \n",
      "28       0.338231  0.050733  \n",
      "29       0.133560  0.019950  \n",
      "30      -0.160507 -0.025939  \n",
      "31      -0.834211 -0.141910  \n",
      "32       1.901199  0.289778  \n",
      "33      -0.382512 -0.061292  \n",
      "34       1.131861  0.180001  \n",
      "35      -1.158796 -0.195752  \n",
      "36      -2.155147 -0.332523  \n",
      "37       0.223598  0.035225  \n",
      "38       1.228432  0.190039  \n",
      "39      -0.957945 -0.145641  \n",
      "40       1.415392  0.229833  \n"
     ]
    }
   ],
   "source": [
    "infl = model.get_influence()\n",
    "print(infl.summary_frame())"
   ]
  },
  {
   "cell_type": "markdown",
   "id": "dc652f03-72a5-4d3a-8e86-df39dbefa3e4",
   "metadata": {},
   "source": [
    "### New model without 36"
   ]
  },
  {
   "cell_type": "code",
   "execution_count": 27,
   "id": "c981c16c-34b3-4ffa-a067-4b25f788de53",
   "metadata": {},
   "outputs": [],
   "source": [
    "heights.drop(heights.index[36], inplace=True)"
   ]
  },
  {
   "cell_type": "code",
   "execution_count": 28,
   "id": "49c49d72-c734-4acf-a68d-ea2d529364be",
   "metadata": {},
   "outputs": [],
   "source": [
    "x = heights['AM_Height']\n",
    "y = heights['PM_Height']"
   ]
  },
  {
   "cell_type": "code",
   "execution_count": 29,
   "id": "7a9c8148-2bb2-4bf1-82e8-e28f6215ad21",
   "metadata": {},
   "outputs": [],
   "source": [
    "modelNoO = sm.OLS(y,x).fit()"
   ]
  },
  {
   "cell_type": "markdown",
   "id": "1b162831-f880-4e8f-bd43-9766b253473f",
   "metadata": {},
   "source": [
    "## Compare and Interpret the Original Model Compared to the One without Ouliers"
   ]
  },
  {
   "cell_type": "code",
   "execution_count": 30,
   "id": "7495cacc-b7ac-4ca8-9510-1ef08444acea",
   "metadata": {},
   "outputs": [
    {
     "data": {
      "text/html": [
       "<table class=\"simpletable\">\n",
       "<caption>OLS Regression Results</caption>\n",
       "<tr>\n",
       "  <th>Dep. Variable:</th>        <td>PM_Height</td>    <th>  R-squared (uncentered):</th>      <td>   1.000</td> \n",
       "</tr>\n",
       "<tr>\n",
       "  <th>Model:</th>                   <td>OLS</td>       <th>  Adj. R-squared (uncentered):</th> <td>   1.000</td> \n",
       "</tr>\n",
       "<tr>\n",
       "  <th>Method:</th>             <td>Least Squares</td>  <th>  F-statistic:       </th>          <td>1.665e+07</td>\n",
       "</tr>\n",
       "<tr>\n",
       "  <th>Date:</th>             <td>Tue, 09 Aug 2022</td> <th>  Prob (F-statistic):</th>          <td>5.17e-114</td>\n",
       "</tr>\n",
       "<tr>\n",
       "  <th>Time:</th>                 <td>21:33:05</td>     <th>  Log-Likelihood:    </th>          <td> -97.263</td> \n",
       "</tr>\n",
       "<tr>\n",
       "  <th>No. Observations:</th>      <td>    41</td>      <th>  AIC:               </th>          <td>   196.5</td> \n",
       "</tr>\n",
       "<tr>\n",
       "  <th>Df Residuals:</th>          <td>    40</td>      <th>  BIC:               </th>          <td>   198.2</td> \n",
       "</tr>\n",
       "<tr>\n",
       "  <th>Df Model:</th>              <td>     1</td>      <th>                     </th>              <td> </td>    \n",
       "</tr>\n",
       "<tr>\n",
       "  <th>Covariance Type:</th>      <td>nonrobust</td>    <th>                     </th>              <td> </td>    \n",
       "</tr>\n",
       "</table>\n",
       "<table class=\"simpletable\">\n",
       "<tr>\n",
       "      <td></td>         <th>coef</th>     <th>std err</th>      <th>t</th>      <th>P>|t|</th>  <th>[0.025</th>    <th>0.975]</th>  \n",
       "</tr>\n",
       "<tr>\n",
       "  <th>AM_Height</th> <td>    0.9943</td> <td>    0.000</td> <td> 4079.964</td> <td> 0.000</td> <td>    0.994</td> <td>    0.995</td>\n",
       "</tr>\n",
       "</table>\n",
       "<table class=\"simpletable\">\n",
       "<tr>\n",
       "  <th>Omnibus:</th>       <td> 0.817</td> <th>  Durbin-Watson:     </th> <td>   2.057</td>\n",
       "</tr>\n",
       "<tr>\n",
       "  <th>Prob(Omnibus):</th> <td> 0.665</td> <th>  Jarque-Bera (JB):  </th> <td>   0.817</td>\n",
       "</tr>\n",
       "<tr>\n",
       "  <th>Skew:</th>          <td> 0.133</td> <th>  Prob(JB):          </th> <td>   0.665</td>\n",
       "</tr>\n",
       "<tr>\n",
       "  <th>Kurtosis:</th>      <td> 2.362</td> <th>  Cond. No.          </th> <td>    1.00</td>\n",
       "</tr>\n",
       "</table><br/><br/>Notes:<br/>[1] R² is computed without centering (uncentered) since the model does not contain a constant.<br/>[2] Standard Errors assume that the covariance matrix of the errors is correctly specified."
      ],
      "text/plain": [
       "<class 'statsmodels.iolib.summary.Summary'>\n",
       "\"\"\"\n",
       "                                 OLS Regression Results                                \n",
       "=======================================================================================\n",
       "Dep. Variable:              PM_Height   R-squared (uncentered):                   1.000\n",
       "Model:                            OLS   Adj. R-squared (uncentered):              1.000\n",
       "Method:                 Least Squares   F-statistic:                          1.665e+07\n",
       "Date:                Tue, 09 Aug 2022   Prob (F-statistic):                   5.17e-114\n",
       "Time:                        21:33:05   Log-Likelihood:                         -97.263\n",
       "No. Observations:                  41   AIC:                                      196.5\n",
       "Df Residuals:                      40   BIC:                                      198.2\n",
       "Df Model:                           1                                                  \n",
       "Covariance Type:            nonrobust                                                  \n",
       "==============================================================================\n",
       "                 coef    std err          t      P>|t|      [0.025      0.975]\n",
       "------------------------------------------------------------------------------\n",
       "AM_Height      0.9943      0.000   4079.964      0.000       0.994       0.995\n",
       "==============================================================================\n",
       "Omnibus:                        0.817   Durbin-Watson:                   2.057\n",
       "Prob(Omnibus):                  0.665   Jarque-Bera (JB):                0.817\n",
       "Skew:                           0.133   Prob(JB):                        0.665\n",
       "Kurtosis:                       2.362   Cond. No.                         1.00\n",
       "==============================================================================\n",
       "\n",
       "Notes:\n",
       "[1] R² is computed without centering (uncentered) since the model does not contain a constant.\n",
       "[2] Standard Errors assume that the covariance matrix of the errors is correctly specified.\n",
       "\"\"\""
      ]
     },
     "execution_count": 30,
     "metadata": {},
     "output_type": "execute_result"
    }
   ],
   "source": [
    "model.summary()"
   ]
  },
  {
   "cell_type": "code",
   "execution_count": 31,
   "id": "f74ab5d3-01a9-4d32-826c-cf2e1ead2231",
   "metadata": {},
   "outputs": [
    {
     "data": {
      "text/html": [
       "<table class=\"simpletable\">\n",
       "<caption>OLS Regression Results</caption>\n",
       "<tr>\n",
       "  <th>Dep. Variable:</th>        <td>PM_Height</td>    <th>  R-squared (uncentered):</th>      <td>   1.000</td> \n",
       "</tr>\n",
       "<tr>\n",
       "  <th>Model:</th>                   <td>OLS</td>       <th>  Adj. R-squared (uncentered):</th> <td>   1.000</td> \n",
       "</tr>\n",
       "<tr>\n",
       "  <th>Method:</th>             <td>Least Squares</td>  <th>  F-statistic:       </th>          <td>1.774e+07</td>\n",
       "</tr>\n",
       "<tr>\n",
       "  <th>Date:</th>             <td>Tue, 09 Aug 2022</td> <th>  Prob (F-statistic):</th>          <td>5.93e-112</td>\n",
       "</tr>\n",
       "<tr>\n",
       "  <th>Time:</th>                 <td>21:33:26</td>     <th>  Log-Likelihood:    </th>          <td> -93.134</td> \n",
       "</tr>\n",
       "<tr>\n",
       "  <th>No. Observations:</th>      <td>    40</td>      <th>  AIC:               </th>          <td>   188.3</td> \n",
       "</tr>\n",
       "<tr>\n",
       "  <th>Df Residuals:</th>          <td>    39</td>      <th>  BIC:               </th>          <td>   190.0</td> \n",
       "</tr>\n",
       "<tr>\n",
       "  <th>Df Model:</th>              <td>     1</td>      <th>                     </th>              <td> </td>    \n",
       "</tr>\n",
       "<tr>\n",
       "  <th>Covariance Type:</th>      <td>nonrobust</td>    <th>                     </th>              <td> </td>    \n",
       "</tr>\n",
       "</table>\n",
       "<table class=\"simpletable\">\n",
       "<tr>\n",
       "      <td></td>         <th>coef</th>     <th>std err</th>      <th>t</th>      <th>P>|t|</th>  <th>[0.025</th>    <th>0.975]</th>  \n",
       "</tr>\n",
       "<tr>\n",
       "  <th>AM_Height</th> <td>    0.9944</td> <td>    0.000</td> <td> 4212.277</td> <td> 0.000</td> <td>    0.994</td> <td>    0.995</td>\n",
       "</tr>\n",
       "</table>\n",
       "<table class=\"simpletable\">\n",
       "<tr>\n",
       "  <th>Omnibus:</th>       <td> 1.607</td> <th>  Durbin-Watson:     </th> <td>   2.189</td>\n",
       "</tr>\n",
       "<tr>\n",
       "  <th>Prob(Omnibus):</th> <td> 0.448</td> <th>  Jarque-Bera (JB):  </th> <td>   1.295</td>\n",
       "</tr>\n",
       "<tr>\n",
       "  <th>Skew:</th>          <td> 0.247</td> <th>  Prob(JB):          </th> <td>   0.523</td>\n",
       "</tr>\n",
       "<tr>\n",
       "  <th>Kurtosis:</th>      <td> 2.270</td> <th>  Cond. No.          </th> <td>    1.00</td>\n",
       "</tr>\n",
       "</table><br/><br/>Notes:<br/>[1] R² is computed without centering (uncentered) since the model does not contain a constant.<br/>[2] Standard Errors assume that the covariance matrix of the errors is correctly specified."
      ],
      "text/plain": [
       "<class 'statsmodels.iolib.summary.Summary'>\n",
       "\"\"\"\n",
       "                                 OLS Regression Results                                \n",
       "=======================================================================================\n",
       "Dep. Variable:              PM_Height   R-squared (uncentered):                   1.000\n",
       "Model:                            OLS   Adj. R-squared (uncentered):              1.000\n",
       "Method:                 Least Squares   F-statistic:                          1.774e+07\n",
       "Date:                Tue, 09 Aug 2022   Prob (F-statistic):                   5.93e-112\n",
       "Time:                        21:33:26   Log-Likelihood:                         -93.134\n",
       "No. Observations:                  40   AIC:                                      188.3\n",
       "Df Residuals:                      39   BIC:                                      190.0\n",
       "Df Model:                           1                                                  \n",
       "Covariance Type:            nonrobust                                                  \n",
       "==============================================================================\n",
       "                 coef    std err          t      P>|t|      [0.025      0.975]\n",
       "------------------------------------------------------------------------------\n",
       "AM_Height      0.9944      0.000   4212.277      0.000       0.994       0.995\n",
       "==============================================================================\n",
       "Omnibus:                        1.607   Durbin-Watson:                   2.189\n",
       "Prob(Omnibus):                  0.448   Jarque-Bera (JB):                1.295\n",
       "Skew:                           0.247   Prob(JB):                        0.523\n",
       "Kurtosis:                       2.270   Cond. No.                         1.00\n",
       "==============================================================================\n",
       "\n",
       "Notes:\n",
       "[1] R² is computed without centering (uncentered) since the model does not contain a constant.\n",
       "[2] Standard Errors assume that the covariance matrix of the errors is correctly specified.\n",
       "\"\"\""
      ]
     },
     "execution_count": 31,
     "metadata": {},
     "output_type": "execute_result"
    }
   ],
   "source": [
    "modelNoO.summary()"
   ]
  },
  {
   "cell_type": "code",
   "execution_count": null,
   "id": "2d0218ba-547e-4c57-b304-7419b9f965b5",
   "metadata": {},
   "outputs": [],
   "source": []
  }
 ],
 "metadata": {
  "kernelspec": {
   "display_name": "Python 3 (ipykernel)",
   "language": "python",
   "name": "python3"
  },
  "language_info": {
   "codemirror_mode": {
    "name": "ipython",
    "version": 3
   },
   "file_extension": ".py",
   "mimetype": "text/x-python",
   "name": "python",
   "nbconvert_exporter": "python",
   "pygments_lexer": "ipython3",
   "version": "3.9.12"
  }
 },
 "nbformat": 4,
 "nbformat_minor": 5
}
